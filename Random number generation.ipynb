{
  "nbformat": 4,
  "nbformat_minor": 0,
  "metadata": {
    "colab": {
      "name": "Untitled6.ipynb",
      "provenance": [],
      "authorship_tag": "ABX9TyOljAQBMdAaVAxWP2CvpS4j",
      "include_colab_link": true
    },
    "kernelspec": {
      "name": "python3",
      "display_name": "Python 3"
    },
    "language_info": {
      "name": "python"
    }
  },
  "cells": [
    {
      "cell_type": "markdown",
      "metadata": {
        "id": "view-in-github",
        "colab_type": "text"
      },
      "source": [
        "<a href=\"https://colab.research.google.com/github/Shubhayang6/Numpy-basics/blob/main/Random%20number%20generation.ipynb\" target=\"_parent\"><img src=\"https://colab.research.google.com/assets/colab-badge.svg\" alt=\"Open In Colab\"/></a>"
      ]
    },
    {
      "cell_type": "code",
      "metadata": {
        "id": "Bk1Qpf15slCm"
      },
      "source": [
        "import numpy as np"
      ],
      "execution_count": 1,
      "outputs": []
    },
    {
      "cell_type": "code",
      "metadata": {
        "colab": {
          "base_uri": "https://localhost:8080/"
        },
        "id": "n0rEpp41uWow",
        "outputId": "418aa47b-54f2-48e4-f924-cfd5245fed7a"
      },
      "source": [
        "samples1=np.random.randn(5)\n",
        "samples1"
      ],
      "execution_count": 12,
      "outputs": [
        {
          "output_type": "execute_result",
          "data": {
            "text/plain": [
              "array([-1.93113182, -0.64979542, -2.20753766,  0.06800825, -0.14546518])"
            ]
          },
          "metadata": {
            "tags": []
          },
          "execution_count": 12
        }
      ]
    },
    {
      "cell_type": "code",
      "metadata": {
        "colab": {
          "base_uri": "https://localhost:8080/"
        },
        "id": "MyCV-Lt3ulmN",
        "outputId": "bce7a40b-e3df-46a2-ffa1-baf8c8d9bf23"
      },
      "source": [
        "np.random.randn()"
      ],
      "execution_count": 13,
      "outputs": [
        {
          "output_type": "execute_result",
          "data": {
            "text/plain": [
              "0.2559603159727455"
            ]
          },
          "metadata": {
            "tags": []
          },
          "execution_count": 13
        }
      ]
    },
    {
      "cell_type": "code",
      "metadata": {
        "colab": {
          "base_uri": "https://localhost:8080/"
        },
        "id": "-yKmQ28KuoV7",
        "outputId": "984ba8cf-7717-4403-9f11-bd199aa8e8e3"
      },
      "source": [
        "samples2=np.random.randn(2,3)\n",
        "samples2"
      ],
      "execution_count": 14,
      "outputs": [
        {
          "output_type": "execute_result",
          "data": {
            "text/plain": [
              "array([[ 0.59214699, -0.48223447,  0.80040839],\n",
              "       [-1.03285654, -0.71268525,  0.91707426]])"
            ]
          },
          "metadata": {
            "tags": []
          },
          "execution_count": 14
        }
      ]
    },
    {
      "cell_type": "code",
      "metadata": {
        "colab": {
          "base_uri": "https://localhost:8080/"
        },
        "id": "u4XcDakTuv-E",
        "outputId": "be3d6b75-4bc6-4e5b-e35e-0ec763722926"
      },
      "source": [
        "np.random.randn(2,3,2)"
      ],
      "execution_count": 15,
      "outputs": [
        {
          "output_type": "execute_result",
          "data": {
            "text/plain": [
              "array([[[-0.85918132, -0.32840501],\n",
              "        [ 0.24685331,  0.67939535],\n",
              "        [-0.87026555,  0.01518809]],\n",
              "\n",
              "       [[ 1.04508042, -1.4003014 ],\n",
              "        [ 0.01400309, -1.10321186],\n",
              "        [-0.08545611,  2.44528467]]])"
            ]
          },
          "metadata": {
            "tags": []
          },
          "execution_count": 15
        }
      ]
    },
    {
      "cell_type": "code",
      "metadata": {
        "colab": {
          "base_uri": "https://localhost:8080/"
        },
        "id": "kH3F1x7Uu25G",
        "outputId": "5fefbdd0-cd93-4c9d-95d3-910b5774a90e"
      },
      "source": [
        "samples3=np.random.normal(size=(4,4))\n",
        "samples3\n"
      ],
      "execution_count": 17,
      "outputs": [
        {
          "output_type": "execute_result",
          "data": {
            "text/plain": [
              "array([[ 0.0736128 ,  1.07339208, -1.35273367, -1.68929595],\n",
              "       [-0.27187404, -1.22298701,  1.28466577, -0.12288268],\n",
              "       [-1.6307453 , -0.00904141, -0.02904719,  2.91549611],\n",
              "       [-0.74517038,  0.04224524,  0.02653035,  0.76929112]])"
            ]
          },
          "metadata": {
            "tags": []
          },
          "execution_count": 17
        }
      ]
    },
    {
      "cell_type": "code",
      "metadata": {
        "id": "DlfTN2HrvIik"
      },
      "source": [
        "from numpy.random import *"
      ],
      "execution_count": 18,
      "outputs": []
    },
    {
      "cell_type": "code",
      "metadata": {
        "id": "IHzRT7GxvNbi"
      },
      "source": [
        "seed(1234)"
      ],
      "execution_count": 19,
      "outputs": []
    },
    {
      "cell_type": "code",
      "metadata": {
        "colab": {
          "base_uri": "https://localhost:8080/"
        },
        "id": "4wr1ps2gvQJL",
        "outputId": "5c354c4d-5099-44e2-e0db-806b3ba1a2b0"
      },
      "source": [
        "x=randn(10)\n",
        "x"
      ],
      "execution_count": 20,
      "outputs": [
        {
          "output_type": "execute_result",
          "data": {
            "text/plain": [
              "array([ 0.47143516, -1.19097569,  1.43270697, -0.3126519 , -0.72058873,\n",
              "        0.88716294,  0.85958841, -0.6365235 ,  0.01569637, -2.24268495])"
            ]
          },
          "metadata": {
            "tags": []
          },
          "execution_count": 20
        }
      ]
    },
    {
      "cell_type": "code",
      "metadata": {
        "colab": {
          "base_uri": "https://localhost:8080/"
        },
        "id": "t7RgapR9vVpj",
        "outputId": "67fb03f0-8033-4ffd-ca61-6f1ed0df1143"
      },
      "source": [
        "y=randn(10)\n",
        "y"
      ],
      "execution_count": 21,
      "outputs": [
        {
          "output_type": "execute_result",
          "data": {
            "text/plain": [
              "array([ 1.15003572,  0.99194602,  0.95332413, -2.02125482, -0.33407737,\n",
              "        0.00211836,  0.40545341,  0.28909194,  1.32115819, -1.54690555])"
            ]
          },
          "metadata": {
            "tags": []
          },
          "execution_count": 21
        }
      ]
    },
    {
      "cell_type": "code",
      "metadata": {
        "colab": {
          "base_uri": "https://localhost:8080/"
        },
        "id": "23hySGE5vZVA",
        "outputId": "dddced82-28b0-4c55-c0b8-ab47f12c18ae"
      },
      "source": [
        "z=randint(10,20)\n",
        "z"
      ],
      "execution_count": 26,
      "outputs": [
        {
          "output_type": "execute_result",
          "data": {
            "text/plain": [
              "10"
            ]
          },
          "metadata": {
            "tags": []
          },
          "execution_count": 26
        }
      ]
    },
    {
      "cell_type": "code",
      "metadata": {
        "colab": {
          "base_uri": "https://localhost:8080/"
        },
        "id": "y0M6UQCrvdBK",
        "outputId": "5ce39d8e-d46b-4e75-b9fb-478a8d8cb5cf"
      },
      "source": [
        "zs=randint(10,30,size=(2,5),dtype='int64')\n",
        "zs\n"
      ],
      "execution_count": 28,
      "outputs": [
        {
          "output_type": "execute_result",
          "data": {
            "text/plain": [
              "array([[22, 15, 27, 15, 23],\n",
              "       [26, 19, 18, 22, 16]])"
            ]
          },
          "metadata": {
            "tags": []
          },
          "execution_count": 28
        }
      ]
    },
    {
      "cell_type": "code",
      "metadata": {
        "colab": {
          "base_uri": "https://localhost:8080/"
        },
        "id": "ehorKLq2wP6E",
        "outputId": "caa6ac2f-cac0-47c7-bb03-6dad6977aa13"
      },
      "source": [
        "randint(10,30)"
      ],
      "execution_count": 29,
      "outputs": [
        {
          "output_type": "execute_result",
          "data": {
            "text/plain": [
              "22"
            ]
          },
          "metadata": {
            "tags": []
          },
          "execution_count": 29
        }
      ]
    },
    {
      "cell_type": "code",
      "metadata": {
        "colab": {
          "base_uri": "https://localhost:8080/"
        },
        "id": "NwPBpZAfwcAC",
        "outputId": "8211756e-1f59-45be-b7f1-3145b357fe3b"
      },
      "source": [
        "randn(10).reshape(2,5)"
      ],
      "execution_count": 30,
      "outputs": [
        {
          "output_type": "execute_result",
          "data": {
            "text/plain": [
              "array([[-0.59165988,  0.04315596, -1.89610087,  0.68386223, -1.00655134],\n",
              "       [ 0.00769448,  1.23084078,  2.00074455, -0.6721939 ,  0.91388772]])"
            ]
          },
          "metadata": {
            "tags": []
          },
          "execution_count": 30
        }
      ]
    },
    {
      "cell_type": "code",
      "metadata": {
        "id": "aNPiAksywmKv"
      },
      "source": [
        "rand=RandomState(1234)"
      ],
      "execution_count": 31,
      "outputs": []
    },
    {
      "cell_type": "code",
      "metadata": {
        "colab": {
          "base_uri": "https://localhost:8080/"
        },
        "id": "OD1j7_EYws7D",
        "outputId": "09f066b3-55f8-4cb8-fc24-eebafb37b368"
      },
      "source": [
        "rand.rand(10)"
      ],
      "execution_count": 32,
      "outputs": [
        {
          "output_type": "execute_result",
          "data": {
            "text/plain": [
              "array([0.19151945, 0.62210877, 0.43772774, 0.78535858, 0.77997581,\n",
              "       0.27259261, 0.27646426, 0.80187218, 0.95813935, 0.87593263])"
            ]
          },
          "metadata": {
            "tags": []
          },
          "execution_count": 32
        }
      ]
    },
    {
      "cell_type": "code",
      "metadata": {
        "colab": {
          "base_uri": "https://localhost:8080/"
        },
        "id": "zXc3BeUKwu5m",
        "outputId": "dae2f68f-6f49-4162-d008-a0e39ed89b55"
      },
      "source": [
        "rand.randint(10)"
      ],
      "execution_count": 33,
      "outputs": [
        {
          "output_type": "execute_result",
          "data": {
            "text/plain": [
              "8"
            ]
          },
          "metadata": {
            "tags": []
          },
          "execution_count": 33
        }
      ]
    },
    {
      "cell_type": "code",
      "metadata": {
        "colab": {
          "base_uri": "https://localhost:8080/"
        },
        "id": "fufk4w-nwyv4",
        "outputId": "0aed6ae7-474c-4756-f08e-b1494aaa01cd"
      },
      "source": [
        "rand.randn(10)"
      ],
      "execution_count": 34,
      "outputs": [
        {
          "output_type": "execute_result",
          "data": {
            "text/plain": [
              "array([ 2.00254961,  0.01086208, -0.86924706,  1.4249841 ,  0.1458091 ,\n",
              "        2.89409095, -0.30426018,  0.861661  , -0.68992667,  0.18749737])"
            ]
          },
          "metadata": {
            "tags": []
          },
          "execution_count": 34
        }
      ]
    },
    {
      "cell_type": "code",
      "metadata": {
        "colab": {
          "base_uri": "https://localhost:8080/"
        },
        "id": "TbXCC2G4w38y",
        "outputId": "80f3a5bf-84bf-4038-d307-d43ee4dff548"
      },
      "source": [
        "rand.normal(10)"
      ],
      "execution_count": 39,
      "outputs": [
        {
          "output_type": "execute_result",
          "data": {
            "text/plain": [
              "9.339558587946323"
            ]
          },
          "metadata": {
            "tags": []
          },
          "execution_count": 39
        }
      ]
    },
    {
      "cell_type": "code",
      "metadata": {
        "colab": {
          "base_uri": "https://localhost:8080/"
        },
        "id": "_Fb_yKzQw8_9",
        "outputId": "340bd9ef-c2ed-49d6-b48b-274eb077f62a"
      },
      "source": [
        "rand.uniform(10)"
      ],
      "execution_count": 40,
      "outputs": [
        {
          "output_type": "execute_result",
          "data": {
            "text/plain": [
              "4.887112126365377"
            ]
          },
          "metadata": {
            "tags": []
          },
          "execution_count": 40
        }
      ]
    }
  ]
}