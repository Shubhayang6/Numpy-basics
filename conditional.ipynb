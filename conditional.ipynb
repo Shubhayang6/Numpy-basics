{
  "nbformat": 4,
  "nbformat_minor": 0,
  "metadata": {
    "colab": {
      "name": "Untitled12.ipynb",
      "provenance": [],
      "authorship_tag": "ABX9TyOo4H/+WGencYTTAujbYHZg",
      "include_colab_link": true
    },
    "kernelspec": {
      "name": "python3",
      "display_name": "Python 3"
    },
    "language_info": {
      "name": "python"
    }
  },
  "cells": [
    {
      "cell_type": "markdown",
      "metadata": {
        "id": "view-in-github",
        "colab_type": "text"
      },
      "source": [
        "<a href=\"https://colab.research.google.com/github/Shubhayang6/Numpy-basics/blob/main/conditional.ipynb\" target=\"_parent\"><img src=\"https://colab.research.google.com/assets/colab-badge.svg\" alt=\"Open In Colab\"/></a>"
      ]
    },
    {
      "cell_type": "code",
      "metadata": {
        "id": "yUHYOpEOGFCA"
      },
      "source": [
        "import numpy as np"
      ],
      "execution_count": 1,
      "outputs": []
    },
    {
      "cell_type": "code",
      "metadata": {
        "colab": {
          "base_uri": "https://localhost:8080/"
        },
        "id": "NvgcCSHBGKRg",
        "outputId": "fe0aba7e-fb2f-481b-f011-b8de19e2cfcd"
      },
      "source": [
        "datax=np.array(np.arange(5))\n",
        "datax"
      ],
      "execution_count": 2,
      "outputs": [
        {
          "output_type": "execute_result",
          "data": {
            "text/plain": [
              "array([0, 1, 2, 3, 4])"
            ]
          },
          "metadata": {
            "tags": []
          },
          "execution_count": 2
        }
      ]
    },
    {
      "cell_type": "code",
      "metadata": {
        "colab": {
          "base_uri": "https://localhost:8080/"
        },
        "id": "iyNpm57XGR05",
        "outputId": "c966dc59-b179-4b1d-9b30-2073e579bce7"
      },
      "source": [
        "datay=np.array(np.arange(5,10))\n",
        "datay"
      ],
      "execution_count": 4,
      "outputs": [
        {
          "output_type": "execute_result",
          "data": {
            "text/plain": [
              "array([5, 6, 7, 8, 9])"
            ]
          },
          "metadata": {
            "tags": []
          },
          "execution_count": 4
        }
      ]
    },
    {
      "cell_type": "code",
      "metadata": {
        "id": "3H_0ZChxGamu"
      },
      "source": [
        "cond=np.array([True,False,False,True,True])"
      ],
      "execution_count": 7,
      "outputs": []
    },
    {
      "cell_type": "code",
      "metadata": {
        "colab": {
          "base_uri": "https://localhost:8080/"
        },
        "id": "1itzzdg3Gn22",
        "outputId": "5f51b15a-85e4-4a09-e2d0-8936073db338"
      },
      "source": [
        "result_where=np.where(cond,datax,datay)\n",
        "result_where"
      ],
      "execution_count": 9,
      "outputs": [
        {
          "output_type": "execute_result",
          "data": {
            "text/plain": [
              "array([0, 6, 7, 3, 4])"
            ]
          },
          "metadata": {
            "tags": []
          },
          "execution_count": 9
        }
      ]
    },
    {
      "cell_type": "code",
      "metadata": {
        "colab": {
          "base_uri": "https://localhost:8080/"
        },
        "id": "-VXwvew3HroH",
        "outputId": "91ce1908-356e-4851-8947-1c96327423c4"
      },
      "source": [
        "dataz=np.random.randn(10,4)\n",
        "dataz"
      ],
      "execution_count": 10,
      "outputs": [
        {
          "output_type": "execute_result",
          "data": {
            "text/plain": [
              "array([[-0.88341077, -0.31692026, -0.20435859,  0.01483979],\n",
              "       [ 0.32123303,  0.47667477, -0.6709953 , -2.8732523 ],\n",
              "       [ 1.26586057, -1.26263506,  0.05063025,  1.23980119],\n",
              "       [-1.59270947,  0.67381778,  0.16615987, -2.0839829 ],\n",
              "       [-0.38393477,  3.27111243,  1.97494344,  0.43814239],\n",
              "       [ 0.35297972,  1.15771007, -0.06159884, -1.15060275],\n",
              "       [ 1.09660142, -0.43272997,  0.37519373,  0.25487798],\n",
              "       [-0.1520418 ,  0.93791874,  0.06059655,  0.137776  ],\n",
              "       [ 1.65983811,  0.58595194,  1.30090325,  1.5147392 ],\n",
              "       [-0.72744689,  0.13538309,  1.05059679,  1.76535473]])"
            ]
          },
          "metadata": {
            "tags": []
          },
          "execution_count": 10
        }
      ]
    },
    {
      "cell_type": "code",
      "metadata": {
        "colab": {
          "base_uri": "https://localhost:8080/"
        },
        "id": "EAfFxTJTHxly",
        "outputId": "ee9f1da4-b451-4f6d-a171-69dc5062748e"
      },
      "source": [
        "result2=np.where(dataz>0,5,-5)\n",
        "result2"
      ],
      "execution_count": 14,
      "outputs": [
        {
          "output_type": "execute_result",
          "data": {
            "text/plain": [
              "array([[-5, -5, -5,  5],\n",
              "       [ 5,  5, -5, -5],\n",
              "       [ 5, -5,  5,  5],\n",
              "       [-5,  5,  5, -5],\n",
              "       [-5,  5,  5,  5],\n",
              "       [ 5,  5, -5, -5],\n",
              "       [ 5, -5,  5,  5],\n",
              "       [-5,  5,  5,  5],\n",
              "       [ 5,  5,  5,  5],\n",
              "       [-5,  5,  5,  5]])"
            ]
          },
          "metadata": {
            "tags": []
          },
          "execution_count": 14
        }
      ]
    },
    {
      "cell_type": "code",
      "metadata": {
        "colab": {
          "base_uri": "https://localhost:8080/"
        },
        "id": "Y5--gSgfILKb",
        "outputId": "f440bdb6-4e37-49b8-cd93-1c94d4ff44c1"
      },
      "source": [
        "result2=np.where(dataz>0,5,dataz)\n",
        "result2"
      ],
      "execution_count": 13,
      "outputs": [
        {
          "output_type": "execute_result",
          "data": {
            "text/plain": [
              "array([[-0.88341077, -0.31692026, -0.20435859,  5.        ],\n",
              "       [ 5.        ,  5.        , -0.6709953 , -2.8732523 ],\n",
              "       [ 5.        , -1.26263506,  5.        ,  5.        ],\n",
              "       [-1.59270947,  5.        ,  5.        , -2.0839829 ],\n",
              "       [-0.38393477,  5.        ,  5.        ,  5.        ],\n",
              "       [ 5.        ,  5.        , -0.06159884, -1.15060275],\n",
              "       [ 5.        , -0.43272997,  5.        ,  5.        ],\n",
              "       [-0.1520418 ,  5.        ,  5.        ,  5.        ],\n",
              "       [ 5.        ,  5.        ,  5.        ,  5.        ],\n",
              "       [-0.72744689,  5.        ,  5.        ,  5.        ]])"
            ]
          },
          "metadata": {
            "tags": []
          },
          "execution_count": 13
        }
      ]
    }
  ]
}