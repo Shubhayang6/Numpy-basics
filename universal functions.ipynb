{
  "nbformat": 4,
  "nbformat_minor": 0,
  "metadata": {
    "colab": {
      "name": "Untitled11.ipynb",
      "provenance": [],
      "authorship_tag": "ABX9TyOk4r4+Ioj4bKuXqIsxDzI7",
      "include_colab_link": true
    },
    "kernelspec": {
      "name": "python3",
      "display_name": "Python 3"
    },
    "language_info": {
      "name": "python"
    }
  },
  "cells": [
    {
      "cell_type": "markdown",
      "metadata": {
        "id": "view-in-github",
        "colab_type": "text"
      },
      "source": [
        "<a href=\"https://colab.research.google.com/github/Shubhayang6/Numpy-basics/blob/main/universal%20functions.ipynb\" target=\"_parent\"><img src=\"https://colab.research.google.com/assets/colab-badge.svg\" alt=\"Open In Colab\"/></a>"
      ]
    },
    {
      "cell_type": "code",
      "metadata": {
        "id": "Y0g9WcqgC2kw"
      },
      "source": [
        "import numpy as np"
      ],
      "execution_count": 1,
      "outputs": []
    },
    {
      "cell_type": "code",
      "metadata": {
        "colab": {
          "base_uri": "https://localhost:8080/"
        },
        "id": "od1_nZs2C75a",
        "outputId": "74c1b41a-1186-4e26-b5bd-1f68c1b3b8a8"
      },
      "source": [
        "data=np.arange(5)\n",
        "data"
      ],
      "execution_count": 2,
      "outputs": [
        {
          "output_type": "execute_result",
          "data": {
            "text/plain": [
              "array([0, 1, 2, 3, 4])"
            ]
          },
          "metadata": {
            "tags": []
          },
          "execution_count": 2
        }
      ]
    },
    {
      "cell_type": "code",
      "metadata": {
        "colab": {
          "base_uri": "https://localhost:8080/"
        },
        "id": "farIXZRdDBfA",
        "outputId": "73533e91-0b2c-42bb-fa63-3305b0184659"
      },
      "source": [
        "np.sqrt(data)"
      ],
      "execution_count": 3,
      "outputs": [
        {
          "output_type": "execute_result",
          "data": {
            "text/plain": [
              "array([0.        , 1.        , 1.41421356, 1.73205081, 2.        ])"
            ]
          },
          "metadata": {
            "tags": []
          },
          "execution_count": 3
        }
      ]
    },
    {
      "cell_type": "code",
      "metadata": {
        "colab": {
          "base_uri": "https://localhost:8080/"
        },
        "id": "9aHjzkxoDFOy",
        "outputId": "ea3d4a2d-f2ad-43f7-8597-21bc78aea3e2"
      },
      "source": [
        "np.exp(data)"
      ],
      "execution_count": 4,
      "outputs": [
        {
          "output_type": "execute_result",
          "data": {
            "text/plain": [
              "array([ 1.        ,  2.71828183,  7.3890561 , 20.08553692, 54.59815003])"
            ]
          },
          "metadata": {
            "tags": []
          },
          "execution_count": 4
        }
      ]
    },
    {
      "cell_type": "code",
      "metadata": {
        "colab": {
          "base_uri": "https://localhost:8080/"
        },
        "id": "cdVmMuEIDG2A",
        "outputId": "c421578b-43a8-4070-9bc8-de585bfdcf3d"
      },
      "source": [
        "np.max(data)"
      ],
      "execution_count": 5,
      "outputs": [
        {
          "output_type": "execute_result",
          "data": {
            "text/plain": [
              "4"
            ]
          },
          "metadata": {
            "tags": []
          },
          "execution_count": 5
        }
      ]
    },
    {
      "cell_type": "code",
      "metadata": {
        "colab": {
          "base_uri": "https://localhost:8080/"
        },
        "id": "arPgHUS0DJug",
        "outputId": "c1ba8f5f-cbf2-42aa-8058-62ecd01aa9f1"
      },
      "source": [
        "np.min(data)"
      ],
      "execution_count": 6,
      "outputs": [
        {
          "output_type": "execute_result",
          "data": {
            "text/plain": [
              "0"
            ]
          },
          "metadata": {
            "tags": []
          },
          "execution_count": 6
        }
      ]
    },
    {
      "cell_type": "code",
      "metadata": {
        "colab": {
          "base_uri": "https://localhost:8080/"
        },
        "id": "C6ez17bhDMah",
        "outputId": "8c342853-c599-436f-97d5-6b2d7047fd1f"
      },
      "source": [
        "data1=np.random.randn(5)\n",
        "data1"
      ],
      "execution_count": 7,
      "outputs": [
        {
          "output_type": "execute_result",
          "data": {
            "text/plain": [
              "array([-0.78700289, -1.28901174,  0.38691478,  0.69473059,  0.25822723])"
            ]
          },
          "metadata": {
            "tags": []
          },
          "execution_count": 7
        }
      ]
    },
    {
      "cell_type": "code",
      "metadata": {
        "colab": {
          "base_uri": "https://localhost:8080/"
        },
        "id": "XRsiVLNHDTDo",
        "outputId": "1de0f5a6-a7d8-4b23-ad63-7eee30c1e5ac"
      },
      "source": [
        "data2=np.random.randn(5)\n",
        "data2"
      ],
      "execution_count": 8,
      "outputs": [
        {
          "output_type": "execute_result",
          "data": {
            "text/plain": [
              "array([ 0.41206217, -0.58236373,  1.41501211, -0.30891091, -1.32981741])"
            ]
          },
          "metadata": {
            "tags": []
          },
          "execution_count": 8
        }
      ]
    },
    {
      "cell_type": "code",
      "metadata": {
        "colab": {
          "base_uri": "https://localhost:8080/"
        },
        "id": "oVJIeSzcDZNQ",
        "outputId": "755464f9-5d2a-4538-85f9-ab5fec4a2199"
      },
      "source": [
        "np.maximum(data1,data2)"
      ],
      "execution_count": 10,
      "outputs": [
        {
          "output_type": "execute_result",
          "data": {
            "text/plain": [
              "array([ 0.41206217, -0.58236373,  1.41501211,  0.69473059,  0.25822723])"
            ]
          },
          "metadata": {
            "tags": []
          },
          "execution_count": 10
        }
      ]
    },
    {
      "cell_type": "code",
      "metadata": {
        "colab": {
          "base_uri": "https://localhost:8080/"
        },
        "id": "KWfOBQ-PDije",
        "outputId": "5de5a3f6-45c3-4089-e736-e5875a48cbb5"
      },
      "source": [
        "data3=np.random.randn(10)*5\n",
        "data3"
      ],
      "execution_count": 12,
      "outputs": [
        {
          "output_type": "execute_result",
          "data": {
            "text/plain": [
              "array([-4.27156203,  7.67390421,  2.6802292 , -3.83418983, -2.19535389,\n",
              "       -3.68265491, -1.34593295,  1.58311385, -3.68192887, -0.82872918])"
            ]
          },
          "metadata": {
            "tags": []
          },
          "execution_count": 12
        }
      ]
    },
    {
      "cell_type": "code",
      "metadata": {
        "id": "3wv3PmtJDqso"
      },
      "source": [
        "fraction,integral=np.modf(data3)"
      ],
      "execution_count": 14,
      "outputs": []
    },
    {
      "cell_type": "code",
      "metadata": {
        "colab": {
          "base_uri": "https://localhost:8080/"
        },
        "id": "7F4EhIssD9D6",
        "outputId": "331eb720-9f9f-4091-eda7-cdc5a6d646a8"
      },
      "source": [
        "integral"
      ],
      "execution_count": 15,
      "outputs": [
        {
          "output_type": "execute_result",
          "data": {
            "text/plain": [
              "array([-4.,  7.,  2., -3., -2., -3., -1.,  1., -3., -0.])"
            ]
          },
          "metadata": {
            "tags": []
          },
          "execution_count": 15
        }
      ]
    },
    {
      "cell_type": "code",
      "metadata": {
        "colab": {
          "base_uri": "https://localhost:8080/"
        },
        "id": "JnYz8Bd-D_Uw",
        "outputId": "b28d0405-12fe-46c4-edfd-f938e814853f"
      },
      "source": [
        "fraction"
      ],
      "execution_count": 16,
      "outputs": [
        {
          "output_type": "execute_result",
          "data": {
            "text/plain": [
              "array([-0.27156203,  0.67390421,  0.6802292 , -0.83418983, -0.19535389,\n",
              "       -0.68265491, -0.34593295,  0.58311385, -0.68192887, -0.82872918])"
            ]
          },
          "metadata": {
            "tags": []
          },
          "execution_count": 16
        }
      ]
    },
    {
      "cell_type": "code",
      "metadata": {
        "colab": {
          "base_uri": "https://localhost:8080/"
        },
        "id": "oaSA74CjEBEh",
        "outputId": "e53bf8ba-cd4d-4323-a08d-f4ac2e84df66"
      },
      "source": [
        "np.abs(data3)"
      ],
      "execution_count": 17,
      "outputs": [
        {
          "output_type": "execute_result",
          "data": {
            "text/plain": [
              "array([4.27156203, 7.67390421, 2.6802292 , 3.83418983, 2.19535389,\n",
              "       3.68265491, 1.34593295, 1.58311385, 3.68192887, 0.82872918])"
            ]
          },
          "metadata": {
            "tags": []
          },
          "execution_count": 17
        }
      ]
    },
    {
      "cell_type": "code",
      "metadata": {
        "colab": {
          "base_uri": "https://localhost:8080/"
        },
        "id": "UKvAeOysEGE6",
        "outputId": "3877508f-ba91-449e-c870-fe0fede0bf7c"
      },
      "source": [
        "np.sqrt(np.abs(data3))"
      ],
      "execution_count": 18,
      "outputs": [
        {
          "output_type": "execute_result",
          "data": {
            "text/plain": [
              "array([2.06677576, 2.77018126, 1.63714056, 1.95810874, 1.48167267,\n",
              "       1.91902447, 1.1601435 , 1.25821852, 1.91883529, 0.91034564])"
            ]
          },
          "metadata": {
            "tags": []
          },
          "execution_count": 18
        }
      ]
    },
    {
      "cell_type": "code",
      "metadata": {
        "colab": {
          "base_uri": "https://localhost:8080/"
        },
        "id": "-pqvNP7mEKwu",
        "outputId": "b0307004-a099-476f-a14a-f061c38d98cb"
      },
      "source": [
        "np.square(data3)"
      ],
      "execution_count": 19,
      "outputs": [
        {
          "output_type": "execute_result",
          "data": {
            "text/plain": [
              "array([18.24624215, 58.88880576,  7.18362855, 14.70101162,  4.8195787 ,\n",
              "       13.56194717,  1.8115355 ,  2.50624946, 13.55660021,  0.68679206])"
            ]
          },
          "metadata": {
            "tags": []
          },
          "execution_count": 19
        }
      ]
    },
    {
      "cell_type": "code",
      "metadata": {
        "colab": {
          "base_uri": "https://localhost:8080/"
        },
        "id": "Fh2cH28FEN1f",
        "outputId": "fd994e20-adac-43d3-9c09-3a21e15cdbf7"
      },
      "source": [
        "np.rint(data3)"
      ],
      "execution_count": 20,
      "outputs": [
        {
          "output_type": "execute_result",
          "data": {
            "text/plain": [
              "array([-4.,  8.,  3., -4., -2., -4., -1.,  2., -4., -1.])"
            ]
          },
          "metadata": {
            "tags": []
          },
          "execution_count": 20
        }
      ]
    },
    {
      "cell_type": "code",
      "metadata": {
        "colab": {
          "base_uri": "https://localhost:8080/"
        },
        "id": "XdnxoeMDEXko",
        "outputId": "1c3cd613-c794-4332-fae1-8e34418a5067"
      },
      "source": [
        "data3"
      ],
      "execution_count": 23,
      "outputs": [
        {
          "output_type": "execute_result",
          "data": {
            "text/plain": [
              "array([-4.27156203,  7.67390421,  2.6802292 , -3.83418983, -2.19535389,\n",
              "       -3.68265491, -1.34593295,  1.58311385, -3.68192887, -0.82872918])"
            ]
          },
          "metadata": {
            "tags": []
          },
          "execution_count": 23
        }
      ]
    },
    {
      "cell_type": "code",
      "metadata": {
        "colab": {
          "base_uri": "https://localhost:8080/"
        },
        "id": "zyp9vqX6EQwP",
        "outputId": "c2c59c4f-eb8d-4fa0-fcb1-16399041b681"
      },
      "source": [
        "np.ceil(data3)"
      ],
      "execution_count": 21,
      "outputs": [
        {
          "output_type": "execute_result",
          "data": {
            "text/plain": [
              "array([-4.,  8.,  3., -3., -2., -3., -1.,  2., -3., -0.])"
            ]
          },
          "metadata": {
            "tags": []
          },
          "execution_count": 21
        }
      ]
    },
    {
      "cell_type": "code",
      "metadata": {
        "colab": {
          "base_uri": "https://localhost:8080/"
        },
        "id": "xoQqCbwXEpQ4",
        "outputId": "99e5445d-5d58-4405-988b-3ec1b97cc639"
      },
      "source": [
        "data4=np.arange(10).reshape(2,5)\n",
        "data4"
      ],
      "execution_count": 26,
      "outputs": [
        {
          "output_type": "execute_result",
          "data": {
            "text/plain": [
              "array([[0, 1, 2, 3, 4],\n",
              "       [5, 6, 7, 8, 9]])"
            ]
          },
          "metadata": {
            "tags": []
          },
          "execution_count": 26
        }
      ]
    },
    {
      "cell_type": "code",
      "metadata": {
        "colab": {
          "base_uri": "https://localhost:8080/"
        },
        "id": "GcrJYr_yEwgi",
        "outputId": "77a757e3-aa94-4152-a6b7-0218505a8eb1"
      },
      "source": [
        "data5=np.arange(5,15).reshape(2,5)\n",
        "data5"
      ],
      "execution_count": 28,
      "outputs": [
        {
          "output_type": "execute_result",
          "data": {
            "text/plain": [
              "array([[ 5,  6,  7,  8,  9],\n",
              "       [10, 11, 12, 13, 14]])"
            ]
          },
          "metadata": {
            "tags": []
          },
          "execution_count": 28
        }
      ]
    },
    {
      "cell_type": "code",
      "metadata": {
        "colab": {
          "base_uri": "https://localhost:8080/"
        },
        "id": "aJ8DQwcvE8wQ",
        "outputId": "a567daf0-7a35-4baf-a7c6-6c05fb94f1e6"
      },
      "source": [
        "np.add(data4,data5)"
      ],
      "execution_count": 29,
      "outputs": [
        {
          "output_type": "execute_result",
          "data": {
            "text/plain": [
              "array([[ 5,  7,  9, 11, 13],\n",
              "       [15, 17, 19, 21, 23]])"
            ]
          },
          "metadata": {
            "tags": []
          },
          "execution_count": 29
        }
      ]
    },
    {
      "cell_type": "code",
      "metadata": {
        "colab": {
          "base_uri": "https://localhost:8080/"
        },
        "id": "JV9EqXUtFCBG",
        "outputId": "1c0d4742-1fda-4569-bd26-bd10db2d7b10"
      },
      "source": [
        "np.subtract(data4,data5)"
      ],
      "execution_count": 30,
      "outputs": [
        {
          "output_type": "execute_result",
          "data": {
            "text/plain": [
              "array([[-5, -5, -5, -5, -5],\n",
              "       [-5, -5, -5, -5, -5]])"
            ]
          },
          "metadata": {
            "tags": []
          },
          "execution_count": 30
        }
      ]
    },
    {
      "cell_type": "code",
      "metadata": {
        "colab": {
          "base_uri": "https://localhost:8080/"
        },
        "id": "gadeBriOFIoe",
        "outputId": "94f1f072-fe56-4fc7-b37d-2b2d49972c7e"
      },
      "source": [
        "np.multiply(data4,data5)"
      ],
      "execution_count": 31,
      "outputs": [
        {
          "output_type": "execute_result",
          "data": {
            "text/plain": [
              "array([[  0,   6,  14,  24,  36],\n",
              "       [ 50,  66,  84, 104, 126]])"
            ]
          },
          "metadata": {
            "tags": []
          },
          "execution_count": 31
        }
      ]
    },
    {
      "cell_type": "code",
      "metadata": {
        "colab": {
          "base_uri": "https://localhost:8080/"
        },
        "id": "mWKAvlsMFVbW",
        "outputId": "b55009f6-57db-42d4-8b64-3a86b17592db"
      },
      "source": [
        "np.divide(data4,data5)"
      ],
      "execution_count": 32,
      "outputs": [
        {
          "output_type": "execute_result",
          "data": {
            "text/plain": [
              "array([[0.        , 0.16666667, 0.28571429, 0.375     , 0.44444444],\n",
              "       [0.5       , 0.54545455, 0.58333333, 0.61538462, 0.64285714]])"
            ]
          },
          "metadata": {
            "tags": []
          },
          "execution_count": 32
        }
      ]
    },
    {
      "cell_type": "code",
      "metadata": {
        "colab": {
          "base_uri": "https://localhost:8080/"
        },
        "id": "y5m2tje4FahI",
        "outputId": "26252ef8-d796-4fc9-aa9c-a37d1ef5f2b2"
      },
      "source": [
        "np.power(data4,data5)"
      ],
      "execution_count": 33,
      "outputs": [
        {
          "output_type": "execute_result",
          "data": {
            "text/plain": [
              "array([[             0,              1,            128,           6561,\n",
              "                262144],\n",
              "       [       9765625,      362797056,    13841287201,   549755813888,\n",
              "        22876792454961]])"
            ]
          },
          "metadata": {
            "tags": []
          },
          "execution_count": 33
        }
      ]
    },
    {
      "cell_type": "code",
      "metadata": {
        "colab": {
          "base_uri": "https://localhost:8080/"
        },
        "id": "9L32Mk7AFePY",
        "outputId": "09d0cebd-b407-4c6b-ea6d-7ff876d9adf8"
      },
      "source": [
        "np.greater(data4,data5)"
      ],
      "execution_count": 34,
      "outputs": [
        {
          "output_type": "execute_result",
          "data": {
            "text/plain": [
              "array([[False, False, False, False, False],\n",
              "       [False, False, False, False, False]])"
            ]
          },
          "metadata": {
            "tags": []
          },
          "execution_count": 34
        }
      ]
    },
    {
      "cell_type": "code",
      "metadata": {
        "colab": {
          "base_uri": "https://localhost:8080/"
        },
        "id": "wjfCHqLmFsex",
        "outputId": "ed1a42e4-63ca-4012-8373-c59a4e657179"
      },
      "source": [
        "np.greater(data5,data4)"
      ],
      "execution_count": 37,
      "outputs": [
        {
          "output_type": "execute_result",
          "data": {
            "text/plain": [
              "array([[ True,  True,  True,  True,  True],\n",
              "       [ True,  True,  True,  True,  True]])"
            ]
          },
          "metadata": {
            "tags": []
          },
          "execution_count": 37
        }
      ]
    }
  ]
}