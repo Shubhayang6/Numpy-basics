{
  "nbformat": 4,
  "nbformat_minor": 0,
  "metadata": {
    "colab": {
      "name": "Untitled5.ipynb",
      "provenance": [],
      "authorship_tag": "ABX9TyN/hJFn+wGiNU5xJW1vvsIl",
      "include_colab_link": true
    },
    "kernelspec": {
      "name": "python3",
      "display_name": "Python 3"
    },
    "language_info": {
      "name": "python"
    }
  },
  "cells": [
    {
      "cell_type": "markdown",
      "metadata": {
        "id": "view-in-github",
        "colab_type": "text"
      },
      "source": [
        "<a href=\"https://colab.research.google.com/github/Shubhayang6/Numpy-basics/blob/main/arrays%20and%20matrices.ipynb\" target=\"_parent\"><img src=\"https://colab.research.google.com/assets/colab-badge.svg\" alt=\"Open In Colab\"/></a>"
      ]
    },
    {
      "cell_type": "code",
      "metadata": {
        "id": "ZVivQ9hhrk4Z"
      },
      "source": [
        "import numpy as np"
      ],
      "execution_count": 2,
      "outputs": []
    },
    {
      "cell_type": "code",
      "metadata": {
        "id": "W2A9wRWnr7KM"
      },
      "source": [
        "my_list=list(range(10))\n"
      ],
      "execution_count": 4,
      "outputs": []
    },
    {
      "cell_type": "code",
      "metadata": {
        "colab": {
          "base_uri": "https://localhost:8080/"
        },
        "id": "_Qf1PTIisOvf",
        "outputId": "8dad8df3-c299-491f-bef4-34897d23b812"
      },
      "source": [
        "print(my_list)"
      ],
      "execution_count": 5,
      "outputs": [
        {
          "output_type": "stream",
          "text": [
            "[0, 1, 2, 3, 4, 5, 6, 7, 8, 9]\n"
          ],
          "name": "stdout"
        }
      ]
    },
    {
      "cell_type": "code",
      "metadata": {
        "id": "Z_sCbPlosULd"
      },
      "source": [
        "array_1=np.array(my_list)"
      ],
      "execution_count": 7,
      "outputs": []
    },
    {
      "cell_type": "code",
      "metadata": {
        "colab": {
          "base_uri": "https://localhost:8080/"
        },
        "id": "lOCjaQaUsjod",
        "outputId": "eda0be8a-4000-4aa8-f4cb-cbaa9911d490"
      },
      "source": [
        "print(array_1)"
      ],
      "execution_count": 8,
      "outputs": [
        {
          "output_type": "stream",
          "text": [
            "[0 1 2 3 4 5 6 7 8 9]\n"
          ],
          "name": "stdout"
        }
      ]
    },
    {
      "cell_type": "code",
      "metadata": {
        "id": "oAa9jUWAs6YE"
      },
      "source": [
        "multi_list=[[1,2,3,4,5,6],[7,8,9,10,11,12]]\n",
        "array_2=np.array(multi_list)\n",
        "print(multi_list)"
      ],
      "execution_count": null,
      "outputs": []
    },
    {
      "cell_type": "code",
      "metadata": {
        "colab": {
          "base_uri": "https://localhost:8080/"
        },
        "id": "jYVTzr1otYvy",
        "outputId": "d5378498-40b7-4d8d-b173-5084780e3878"
      },
      "source": [
        "print(array_2)"
      ],
      "execution_count": 11,
      "outputs": [
        {
          "output_type": "stream",
          "text": [
            "[[ 1  2  3  4  5  6]\n",
            " [ 7  8  9 10 11 12]]\n"
          ],
          "name": "stdout"
        }
      ]
    },
    {
      "cell_type": "code",
      "metadata": {
        "colab": {
          "base_uri": "https://localhost:8080/"
        },
        "id": "DIBx7ggBuDrP",
        "outputId": "6d9d8123-c81b-4ac0-ad4b-658519b9de4e"
      },
      "source": [
        "array_1.ndim"
      ],
      "execution_count": 16,
      "outputs": [
        {
          "output_type": "execute_result",
          "data": {
            "text/plain": [
              "1"
            ]
          },
          "metadata": {
            "tags": []
          },
          "execution_count": 16
        }
      ]
    },
    {
      "cell_type": "code",
      "metadata": {
        "colab": {
          "base_uri": "https://localhost:8080/"
        },
        "id": "mmt-f9FpuLtv",
        "outputId": "09df13ee-099b-4cd0-c2a3-fa000ac289fc"
      },
      "source": [
        "array_2.ndim"
      ],
      "execution_count": 15,
      "outputs": [
        {
          "output_type": "execute_result",
          "data": {
            "text/plain": [
              "2"
            ]
          },
          "metadata": {
            "tags": []
          },
          "execution_count": 15
        }
      ]
    },
    {
      "cell_type": "code",
      "metadata": {
        "colab": {
          "base_uri": "https://localhost:8080/"
        },
        "id": "lGkNSpU4uPbD",
        "outputId": "849cb11c-7a2c-4b99-c05b-444f82fa20ed"
      },
      "source": [
        "array_2.shape"
      ],
      "execution_count": 18,
      "outputs": [
        {
          "output_type": "execute_result",
          "data": {
            "text/plain": [
              "(2, 6)"
            ]
          },
          "metadata": {
            "tags": []
          },
          "execution_count": 18
        }
      ]
    },
    {
      "cell_type": "code",
      "metadata": {
        "id": "n2LjNn3svNcm"
      },
      "source": [
        "multi_2x3=[[[1,2],[3,4]],[[5,6],[7,8]],[[9,10],[11,12]]]"
      ],
      "execution_count": 19,
      "outputs": []
    },
    {
      "cell_type": "code",
      "metadata": {
        "colab": {
          "base_uri": "https://localhost:8080/"
        },
        "id": "ji3-bbHTvuAk",
        "outputId": "3249ed1a-dc9f-42eb-a298-2586e8f19cd9"
      },
      "source": [
        "array_multi_2x3=np.array(multi_2x3)\n",
        "print(array_multi_2x3)"
      ],
      "execution_count": 21,
      "outputs": [
        {
          "output_type": "stream",
          "text": [
            "[[[ 1  2]\n",
            "  [ 3  4]]\n",
            "\n",
            " [[ 5  6]\n",
            "  [ 7  8]]\n",
            "\n",
            " [[ 9 10]\n",
            "  [11 12]]]\n"
          ],
          "name": "stdout"
        }
      ]
    },
    {
      "cell_type": "code",
      "metadata": {
        "colab": {
          "base_uri": "https://localhost:8080/"
        },
        "id": "y0wSHrvJv40p",
        "outputId": "3e688361-fad5-439b-c74d-bb5a88da3cf3"
      },
      "source": [
        "array_multi_2x3.ndim"
      ],
      "execution_count": 23,
      "outputs": [
        {
          "output_type": "execute_result",
          "data": {
            "text/plain": [
              "3"
            ]
          },
          "metadata": {
            "tags": []
          },
          "execution_count": 23
        }
      ]
    },
    {
      "cell_type": "code",
      "metadata": {
        "colab": {
          "base_uri": "https://localhost:8080/"
        },
        "id": "QX38PsjBv84G",
        "outputId": "31f3223e-489e-4144-edd8-695b7d9d5c1a"
      },
      "source": [
        "array_multi_2x3.shape"
      ],
      "execution_count": 24,
      "outputs": [
        {
          "output_type": "execute_result",
          "data": {
            "text/plain": [
              "(3, 2, 2)"
            ]
          },
          "metadata": {
            "tags": []
          },
          "execution_count": 24
        }
      ]
    },
    {
      "cell_type": "code",
      "metadata": {
        "colab": {
          "base_uri": "https://localhost:8080/"
        },
        "id": "DzuxJbrHwRlR",
        "outputId": "17a175b3-84f0-434b-f5c6-6972fba86b49"
      },
      "source": [
        "multi_3x3=[[[1,2,0],[3,4,0]],[[5,6,0],[7,8,0]],[[9,10,0],[11,12,0]]]\n",
        "print(multi_3x3)"
      ],
      "execution_count": 26,
      "outputs": [
        {
          "output_type": "stream",
          "text": [
            "[[[1, 2, 0], [3, 4, 0]], [[5, 6, 0], [7, 8, 0]], [[9, 10, 0], [11, 12, 0]]]\n"
          ],
          "name": "stdout"
        }
      ]
    },
    {
      "cell_type": "code",
      "metadata": {
        "colab": {
          "base_uri": "https://localhost:8080/"
        },
        "id": "fG0YlAMbwein",
        "outputId": "570aedef-3460-4719-faa5-f3596fa13e98"
      },
      "source": [
        "array_multi_3x3=np.array(multi_3x3)\n",
        "print(array_multi_3x3)"
      ],
      "execution_count": 28,
      "outputs": [
        {
          "output_type": "stream",
          "text": [
            "[[[ 1  2  0]\n",
            "  [ 3  4  0]]\n",
            "\n",
            " [[ 5  6  0]\n",
            "  [ 7  8  0]]\n",
            "\n",
            " [[ 9 10  0]\n",
            "  [11 12  0]]]\n"
          ],
          "name": "stdout"
        }
      ]
    },
    {
      "cell_type": "code",
      "metadata": {
        "colab": {
          "base_uri": "https://localhost:8080/"
        },
        "id": "bRECtjTswptR",
        "outputId": "50250785-0330-4e59-dc2b-d06ead36cec1"
      },
      "source": [
        "print(array_multi_3x3.ndim)\n",
        "print(array_multi_3x3.shape)"
      ],
      "execution_count": 29,
      "outputs": [
        {
          "output_type": "stream",
          "text": [
            "3\n",
            "(3, 2, 3)\n"
          ],
          "name": "stdout"
        }
      ]
    },
    {
      "cell_type": "code",
      "metadata": {
        "colab": {
          "base_uri": "https://localhost:8080/"
        },
        "id": "SAGNTDP-w40W",
        "outputId": "d54e278b-b54b-48e9-b1b3-86de4ace5a7f"
      },
      "source": [
        "print(array_2.dtype)"
      ],
      "execution_count": 30,
      "outputs": [
        {
          "output_type": "stream",
          "text": [
            "int64\n"
          ],
          "name": "stdout"
        }
      ]
    },
    {
      "cell_type": "code",
      "metadata": {
        "colab": {
          "base_uri": "https://localhost:8080/"
        },
        "id": "PpTJnqVaw98x",
        "outputId": "16dc21ad-3b1d-4b77-8ce1-9622e1e6435a"
      },
      "source": [
        "print(array_1.dtype )"
      ],
      "execution_count": 31,
      "outputs": [
        {
          "output_type": "stream",
          "text": [
            "int64\n"
          ],
          "name": "stdout"
        }
      ]
    },
    {
      "cell_type": "code",
      "metadata": {
        "id": "ewdW1zpLxM6k"
      },
      "source": [
        "my_list2=[1,2,3,4,5,6.5,7,8,9]"
      ],
      "execution_count": 34,
      "outputs": []
    },
    {
      "cell_type": "code",
      "metadata": {
        "colab": {
          "base_uri": "https://localhost:8080/"
        },
        "id": "yp6XWjxuxT64",
        "outputId": "6822582f-a3b0-488d-e304-8f4733df068a"
      },
      "source": [
        "array_3=np.array(my_list2)\n",
        "print(array_3)"
      ],
      "execution_count": 37,
      "outputs": [
        {
          "output_type": "stream",
          "text": [
            "[1.  2.  3.  4.  5.  6.5 7.  8.  9. ]\n"
          ],
          "name": "stdout"
        }
      ]
    },
    {
      "cell_type": "code",
      "metadata": {
        "colab": {
          "base_uri": "https://localhost:8080/"
        },
        "id": "7JzjHzabxmCE",
        "outputId": "1b178e57-995d-45d4-e7b0-1a9f07c31f5d"
      },
      "source": [
        "print(array_3.dtype)"
      ],
      "execution_count": 39,
      "outputs": [
        {
          "output_type": "stream",
          "text": [
            "float64\n"
          ],
          "name": "stdout"
        }
      ]
    },
    {
      "cell_type": "code",
      "metadata": {
        "colab": {
          "base_uri": "https://localhost:8080/"
        },
        "id": "yOpR8PfnxtM4",
        "outputId": "812115b5-cda0-48f6-d4f8-90aa0682c9ac"
      },
      "source": [
        "zeros_array=np.zeros(10)\n",
        "print(zeros_array)"
      ],
      "execution_count": 45,
      "outputs": [
        {
          "output_type": "stream",
          "text": [
            "[0. 0. 0. 0. 0. 0. 0. 0. 0. 0.]\n"
          ],
          "name": "stdout"
        }
      ]
    },
    {
      "cell_type": "code",
      "metadata": {
        "colab": {
          "base_uri": "https://localhost:8080/"
        },
        "id": "kFLo4BexyKuQ",
        "outputId": "6a7dced4-9cf6-4b62-d014-e586fdc87a01"
      },
      "source": [
        "zeros_ndarray=np.zeros((3,6))\n",
        "print(zeros_ndarray)"
      ],
      "execution_count": 46,
      "outputs": [
        {
          "output_type": "stream",
          "text": [
            "[[0. 0. 0. 0. 0. 0.]\n",
            " [0. 0. 0. 0. 0. 0.]\n",
            " [0. 0. 0. 0. 0. 0.]]\n"
          ],
          "name": "stdout"
        }
      ]
    },
    {
      "cell_type": "code",
      "metadata": {
        "colab": {
          "base_uri": "https://localhost:8080/"
        },
        "id": "ae0dlY8jydCq",
        "outputId": "5586a0eb-22c5-4ffd-ca14-ef97e0f3bfb4"
      },
      "source": [
        "ones_array=np.ones(10)\n",
        "print(ones_array)"
      ],
      "execution_count": 48,
      "outputs": [
        {
          "output_type": "stream",
          "text": [
            "[1. 1. 1. 1. 1. 1. 1. 1. 1. 1.]\n"
          ],
          "name": "stdout"
        }
      ]
    },
    {
      "cell_type": "code",
      "metadata": {
        "colab": {
          "base_uri": "https://localhost:8080/"
        },
        "id": "MukqH0P9ymek",
        "outputId": "000e8469-fba2-42cb-f33f-5a963bec6345"
      },
      "source": [
        "empty_array=np.empty((3,3,2))\n",
        "print(empty_array)"
      ],
      "execution_count": 53,
      "outputs": [
        {
          "output_type": "stream",
          "text": [
            "[[[0. 0.]\n",
            "  [0. 0.]\n",
            "  [0. 0.]]\n",
            "\n",
            " [[0. 0.]\n",
            "  [0. 0.]\n",
            "  [0. 0.]]\n",
            "\n",
            " [[0. 0.]\n",
            "  [0. 0.]\n",
            "  [0. 0.]]]\n"
          ],
          "name": "stdout"
        }
      ]
    },
    {
      "cell_type": "code",
      "metadata": {
        "colab": {
          "base_uri": "https://localhost:8080/"
        },
        "id": "myAuV57-zAHM",
        "outputId": "c1153cff-79e9-44d2-c89a-6eb2c40aa5e5"
      },
      "source": [
        "array_arange=np.arange(20)\n",
        "print(array_arange)"
      ],
      "execution_count": 55,
      "outputs": [
        {
          "output_type": "stream",
          "text": [
            "[ 0  1  2  3  4  5  6  7  8  9 10 11 12 13 14 15 16 17 18 19]\n"
          ],
          "name": "stdout"
        }
      ]
    },
    {
      "cell_type": "code",
      "metadata": {
        "colab": {
          "base_uri": "https://localhost:8080/"
        },
        "id": "IByyzbOYzKVl",
        "outputId": "eff0d643-a1e5-4e7a-8f01-c9f4ff4bf418"
      },
      "source": [
        "np.arange(10,20)"
      ],
      "execution_count": 57,
      "outputs": [
        {
          "output_type": "execute_result",
          "data": {
            "text/plain": [
              "array([10, 11, 12, 13, 14, 15, 16, 17, 18, 19])"
            ]
          },
          "metadata": {
            "tags": []
          },
          "execution_count": 57
        }
      ]
    },
    {
      "cell_type": "code",
      "metadata": {
        "colab": {
          "base_uri": "https://localhost:8080/"
        },
        "id": "xc-CeLlZzVD4",
        "outputId": "41dbac9a-2013-4ea9-afb7-48d218d6e248"
      },
      "source": [
        "np.arange(10,20,2)"
      ],
      "execution_count": 58,
      "outputs": [
        {
          "output_type": "execute_result",
          "data": {
            "text/plain": [
              "array([10, 12, 14, 16, 18])"
            ]
          },
          "metadata": {
            "tags": []
          },
          "execution_count": 58
        }
      ]
    },
    {
      "cell_type": "code",
      "metadata": {
        "colab": {
          "base_uri": "https://localhost:8080/"
        },
        "id": "rXhFxrJRzfB2",
        "outputId": "3f5742ee-23ae-4fc6-aea3-2a53583ac102"
      },
      "source": [
        "np.eye(5,5)"
      ],
      "execution_count": 59,
      "outputs": [
        {
          "output_type": "execute_result",
          "data": {
            "text/plain": [
              "array([[1., 0., 0., 0., 0.],\n",
              "       [0., 1., 0., 0., 0.],\n",
              "       [0., 0., 1., 0., 0.],\n",
              "       [0., 0., 0., 1., 0.],\n",
              "       [0., 0., 0., 0., 1.]])"
            ]
          },
          "metadata": {
            "tags": []
          },
          "execution_count": 59
        }
      ]
    }
  ]
}