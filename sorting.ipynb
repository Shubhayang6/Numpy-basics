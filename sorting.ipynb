{
  "nbformat": 4,
  "nbformat_minor": 0,
  "metadata": {
    "colab": {
      "name": "Untitled12.ipynb",
      "provenance": [],
      "authorship_tag": "ABX9TyMctyjGBMa1aaOZmsneLifw",
      "include_colab_link": true
    },
    "kernelspec": {
      "name": "python3",
      "display_name": "Python 3"
    },
    "language_info": {
      "name": "python"
    }
  },
  "cells": [
    {
      "cell_type": "markdown",
      "metadata": {
        "id": "view-in-github",
        "colab_type": "text"
      },
      "source": [
        "<a href=\"https://colab.research.google.com/github/Shubhayang6/Numpy-basics/blob/main/sorting.ipynb\" target=\"_parent\"><img src=\"https://colab.research.google.com/assets/colab-badge.svg\" alt=\"Open In Colab\"/></a>"
      ]
    },
    {
      "cell_type": "code",
      "metadata": {
        "id": "BUNPqCo8Iw6P"
      },
      "source": [
        "import numpy as np"
      ],
      "execution_count": 15,
      "outputs": []
    },
    {
      "cell_type": "code",
      "metadata": {
        "colab": {
          "base_uri": "https://localhost:8080/"
        },
        "id": "NFs8XHIxI0Hf",
        "outputId": "1944c472-8289-4509-f6e9-3e72a5791ffa"
      },
      "source": [
        "data=np.random.randn(10)\n",
        "data"
      ],
      "execution_count": 18,
      "outputs": [
        {
          "output_type": "execute_result",
          "data": {
            "text/plain": [
              "array([ 0.2704495 ,  2.03321344,  1.82961423, -0.06733779,  0.41468191,\n",
              "        1.26313906, -0.68907585, -0.97840634, -0.45525959,  1.48867808])"
            ]
          },
          "metadata": {
            "tags": []
          },
          "execution_count": 18
        }
      ]
    },
    {
      "cell_type": "code",
      "metadata": {
        "colab": {
          "base_uri": "https://localhost:8080/"
        },
        "id": "Aq3nC8AKI66_",
        "outputId": "df92c6d3-1883-436b-bd41-36aaff4be521"
      },
      "source": [
        "data.sort()\n",
        "data"
      ],
      "execution_count": 20,
      "outputs": [
        {
          "output_type": "execute_result",
          "data": {
            "text/plain": [
              "array([-0.97840634, -0.68907585, -0.45525959, -0.06733779,  0.2704495 ,\n",
              "        0.41468191,  1.26313906,  1.48867808,  1.82961423,  2.03321344])"
            ]
          },
          "metadata": {
            "tags": []
          },
          "execution_count": 20
        }
      ]
    },
    {
      "cell_type": "code",
      "metadata": {
        "colab": {
          "base_uri": "https://localhost:8080/"
        },
        "id": "4Mz6bdlsJCVY",
        "outputId": "5158f1f1-022b-453b-be6b-c2aa1edc6162"
      },
      "source": [
        "data2=np.random.randn(10)\n",
        "data2"
      ],
      "execution_count": 22,
      "outputs": [
        {
          "output_type": "execute_result",
          "data": {
            "text/plain": [
              "array([ 0.38585482,  3.18301271,  0.26306423, -0.75835083,  0.18251893,\n",
              "        0.48904388,  1.64227274,  1.4312589 , -0.83816174,  1.79302254])"
            ]
          },
          "metadata": {
            "tags": []
          },
          "execution_count": 22
        }
      ]
    },
    {
      "cell_type": "code",
      "metadata": {
        "colab": {
          "base_uri": "https://localhost:8080/"
        },
        "id": "v5GlTrpRJNxd",
        "outputId": "f6e66e4b-57ee-4da1-85d1-75c616f0d493"
      },
      "source": [
        "np.sort(data2)"
      ],
      "execution_count": 23,
      "outputs": [
        {
          "output_type": "execute_result",
          "data": {
            "text/plain": [
              "array([-0.83816174, -0.75835083,  0.18251893,  0.26306423,  0.38585482,\n",
              "        0.48904388,  1.4312589 ,  1.64227274,  1.79302254,  3.18301271])"
            ]
          },
          "metadata": {
            "tags": []
          },
          "execution_count": 23
        }
      ]
    },
    {
      "cell_type": "code",
      "metadata": {
        "colab": {
          "base_uri": "https://localhost:8080/"
        },
        "id": "yfUJ4qeYJQ2P",
        "outputId": "d0e26a0e-231c-4a5b-da20-4a3f03b167e4"
      },
      "source": [
        "matrixdata=np.random.randn(6,3)\n",
        "matrixdata"
      ],
      "execution_count": 27,
      "outputs": [
        {
          "output_type": "execute_result",
          "data": {
            "text/plain": [
              "array([[ 0.01054238,  0.77839109,  0.56280464],\n",
              "       [-0.32007952, -0.45706679, -0.57991907],\n",
              "       [ 2.23643288,  1.03428643,  0.69532285],\n",
              "       [ 1.10714259, -0.11533767, -0.14257069],\n",
              "       [ 0.01389971,  1.07685912,  0.47925383],\n",
              "       [-1.2194481 , -1.33797794, -0.16262839]])"
            ]
          },
          "metadata": {
            "tags": []
          },
          "execution_count": 27
        }
      ]
    },
    {
      "cell_type": "code",
      "metadata": {
        "colab": {
          "base_uri": "https://localhost:8080/"
        },
        "id": "bW6Hb7FrJefL",
        "outputId": "964bb377-d038-4e62-bcb0-04285ec6d152"
      },
      "source": [
        "matrixdata.sort(axis=-1)\n",
        "matrixdata"
      ],
      "execution_count": 33,
      "outputs": [
        {
          "output_type": "execute_result",
          "data": {
            "text/plain": [
              "array([[ 0.01054238,  0.56280464,  0.77839109],\n",
              "       [-0.57991907, -0.45706679, -0.32007952],\n",
              "       [ 0.69532285,  1.03428643,  2.23643288],\n",
              "       [-0.14257069, -0.11533767,  1.10714259],\n",
              "       [ 0.01389971,  0.47925383,  1.07685912],\n",
              "       [-1.33797794, -1.2194481 , -0.16262839]])"
            ]
          },
          "metadata": {
            "tags": []
          },
          "execution_count": 33
        }
      ]
    },
    {
      "cell_type": "code",
      "metadata": {
        "colab": {
          "base_uri": "https://localhost:8080/"
        },
        "id": "FNuz86LxK_4X",
        "outputId": "8201321d-aff6-42df-e956-e6d785dc0052"
      },
      "source": [
        "matrixdata.sort(axis=0)\n",
        "matrixdata"
      ],
      "execution_count": 35,
      "outputs": [
        {
          "output_type": "execute_result",
          "data": {
            "text/plain": [
              "array([[-1.33797794, -1.2194481 , -0.32007952],\n",
              "       [-0.57991907, -0.45706679, -0.16262839],\n",
              "       [-0.14257069, -0.11533767,  0.77839109],\n",
              "       [ 0.01054238,  0.47925383,  1.07685912],\n",
              "       [ 0.01389971,  0.56280464,  1.10714259],\n",
              "       [ 0.69532285,  1.03428643,  2.23643288]])"
            ]
          },
          "metadata": {
            "tags": []
          },
          "execution_count": 35
        }
      ]
    }
  ]
}