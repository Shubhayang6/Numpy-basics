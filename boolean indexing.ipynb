{
  "nbformat": 4,
  "nbformat_minor": 0,
  "metadata": {
    "colab": {
      "name": "Untitled8.ipynb",
      "provenance": [],
      "authorship_tag": "ABX9TyPkSVecocEwKfL2ax9zGJPS",
      "include_colab_link": true
    },
    "kernelspec": {
      "name": "python3",
      "display_name": "Python 3"
    },
    "language_info": {
      "name": "python"
    }
  },
  "cells": [
    {
      "cell_type": "markdown",
      "metadata": {
        "id": "view-in-github",
        "colab_type": "text"
      },
      "source": [
        "<a href=\"https://colab.research.google.com/github/Shubhayang6/Numpy-basics/blob/main/boolean%20indexing.ipynb\" target=\"_parent\"><img src=\"https://colab.research.google.com/assets/colab-badge.svg\" alt=\"Open In Colab\"/></a>"
      ]
    },
    {
      "cell_type": "code",
      "metadata": {
        "id": "7sQfVvp37DgJ"
      },
      "source": [
        "import numpy as np"
      ],
      "execution_count": 1,
      "outputs": []
    },
    {
      "cell_type": "code",
      "metadata": {
        "id": "SazHg3Dj7Fgz"
      },
      "source": [
        "days=np.array(['sun','mon','tue','wed','thur','fri','sat','sun','thur','thur'])"
      ],
      "execution_count": 2,
      "outputs": []
    },
    {
      "cell_type": "code",
      "metadata": {
        "colab": {
          "base_uri": "https://localhost:8080/"
        },
        "id": "WTCFpV4z7iA_",
        "outputId": "0355cf65-4717-4bfa-e45a-6a1adeefae64"
      },
      "source": [
        "data=np.random.randn(10,4)\n",
        "data"
      ],
      "execution_count": 5,
      "outputs": [
        {
          "output_type": "execute_result",
          "data": {
            "text/plain": [
              "array([[-0.82412956, -1.86959831, -1.15171079, -1.08628687],\n",
              "       [ 0.35679507, -0.39134766,  1.3091819 ,  0.34822747],\n",
              "       [-0.05642771,  0.89147817,  1.11191778,  0.39854997],\n",
              "       [ 0.3428245 ,  0.56111248, -1.11823879, -0.29554765],\n",
              "       [ 1.11079811,  1.03362859, -0.13879541, -1.29944136],\n",
              "       [ 0.89071004, -0.36260303,  1.03671779, -1.92044084],\n",
              "       [ 0.18199059, -0.04115906, -0.76029977, -0.35297352],\n",
              "       [-0.24463305,  1.28276949,  1.20279142, -1.30746863],\n",
              "       [ 0.38422922,  1.34980627, -2.01508922, -0.63464121],\n",
              "       [ 0.361287  ,  0.17892449,  0.97647995,  1.28324545]])"
            ]
          },
          "metadata": {
            "tags": []
          },
          "execution_count": 5
        }
      ]
    },
    {
      "cell_type": "code",
      "metadata": {
        "colab": {
          "base_uri": "https://localhost:8080/"
        },
        "id": "RhBkP2Ur7u52",
        "outputId": "d5ebb80d-5f1f-4f98-8ece-cb6414290b7d"
      },
      "source": [
        "days=='sun'"
      ],
      "execution_count": 6,
      "outputs": [
        {
          "output_type": "execute_result",
          "data": {
            "text/plain": [
              "array([ True, False, False, False, False, False, False,  True, False,\n",
              "       False])"
            ]
          },
          "metadata": {
            "tags": []
          },
          "execution_count": 6
        }
      ]
    },
    {
      "cell_type": "code",
      "metadata": {
        "colab": {
          "base_uri": "https://localhost:8080/"
        },
        "id": "VJryTX2H7yIl",
        "outputId": "25413b58-918c-4e5f-f58e-061fd75d58fa"
      },
      "source": [
        "data[days=='sun']"
      ],
      "execution_count": 7,
      "outputs": [
        {
          "output_type": "execute_result",
          "data": {
            "text/plain": [
              "array([[-0.82412956, -1.86959831, -1.15171079, -1.08628687],\n",
              "       [-0.24463305,  1.28276949,  1.20279142, -1.30746863]])"
            ]
          },
          "metadata": {
            "tags": []
          },
          "execution_count": 7
        }
      ]
    },
    {
      "cell_type": "code",
      "metadata": {
        "colab": {
          "base_uri": "https://localhost:8080/"
        },
        "id": "I2UzpBPs79iY",
        "outputId": "a20cfc20-3fe8-446a-ffdd-d093bba05382"
      },
      "source": [
        "data[days=='sun',1:]"
      ],
      "execution_count": 8,
      "outputs": [
        {
          "output_type": "execute_result",
          "data": {
            "text/plain": [
              "array([[-1.86959831, -1.15171079, -1.08628687],\n",
              "       [ 1.28276949,  1.20279142, -1.30746863]])"
            ]
          },
          "metadata": {
            "tags": []
          },
          "execution_count": 8
        }
      ]
    },
    {
      "cell_type": "code",
      "metadata": {
        "colab": {
          "base_uri": "https://localhost:8080/"
        },
        "id": "F_lr8AgY8JNI",
        "outputId": "20657891-4259-4451-f74c-8a4635ba81c6"
      },
      "source": [
        "days!='sun'"
      ],
      "execution_count": 9,
      "outputs": [
        {
          "output_type": "execute_result",
          "data": {
            "text/plain": [
              "array([False,  True,  True,  True,  True,  True,  True, False,  True,\n",
              "        True])"
            ]
          },
          "metadata": {
            "tags": []
          },
          "execution_count": 9
        }
      ]
    },
    {
      "cell_type": "code",
      "metadata": {
        "colab": {
          "base_uri": "https://localhost:8080/"
        },
        "id": "JwxfOepC8QP2",
        "outputId": "ef19215e-e679-4704-defd-c695677942ec"
      },
      "source": [
        "data[days!='sun']"
      ],
      "execution_count": 10,
      "outputs": [
        {
          "output_type": "execute_result",
          "data": {
            "text/plain": [
              "array([[ 0.35679507, -0.39134766,  1.3091819 ,  0.34822747],\n",
              "       [-0.05642771,  0.89147817,  1.11191778,  0.39854997],\n",
              "       [ 0.3428245 ,  0.56111248, -1.11823879, -0.29554765],\n",
              "       [ 1.11079811,  1.03362859, -0.13879541, -1.29944136],\n",
              "       [ 0.89071004, -0.36260303,  1.03671779, -1.92044084],\n",
              "       [ 0.18199059, -0.04115906, -0.76029977, -0.35297352],\n",
              "       [ 0.38422922,  1.34980627, -2.01508922, -0.63464121],\n",
              "       [ 0.361287  ,  0.17892449,  0.97647995,  1.28324545]])"
            ]
          },
          "metadata": {
            "tags": []
          },
          "execution_count": 10
        }
      ]
    },
    {
      "cell_type": "code",
      "metadata": {
        "colab": {
          "base_uri": "https://localhost:8080/"
        },
        "id": "lsB_l0wt8ZDW",
        "outputId": "34e02663-416b-4664-96a4-d3add71a5fa5"
      },
      "source": [
        "cond=(days=='sun')\n",
        "cond"
      ],
      "execution_count": 12,
      "outputs": [
        {
          "output_type": "execute_result",
          "data": {
            "text/plain": [
              "array([ True, False, False, False, False, False, False,  True, False,\n",
              "       False])"
            ]
          },
          "metadata": {
            "tags": []
          },
          "execution_count": 12
        }
      ]
    },
    {
      "cell_type": "code",
      "metadata": {
        "colab": {
          "base_uri": "https://localhost:8080/"
        },
        "id": "2R0hyn988hFp",
        "outputId": "a9ce19f1-834c-44ad-affd-252c9e634de1"
      },
      "source": [
        "multi_cond=(days=='sun')|(days=='thur')\n",
        "multi_cond"
      ],
      "execution_count": 14,
      "outputs": [
        {
          "output_type": "execute_result",
          "data": {
            "text/plain": [
              "array([ True, False, False, False,  True, False, False,  True,  True,\n",
              "        True])"
            ]
          },
          "metadata": {
            "tags": []
          },
          "execution_count": 14
        }
      ]
    },
    {
      "cell_type": "code",
      "metadata": {
        "colab": {
          "base_uri": "https://localhost:8080/"
        },
        "id": "FO90cfMd8scO",
        "outputId": "a0aa58d9-fc2f-4855-ee9d-fdb9f78b16fd"
      },
      "source": [
        "data[multi_cond]"
      ],
      "execution_count": 15,
      "outputs": [
        {
          "output_type": "execute_result",
          "data": {
            "text/plain": [
              "array([[-0.82412956, -1.86959831, -1.15171079, -1.08628687],\n",
              "       [ 1.11079811,  1.03362859, -0.13879541, -1.29944136],\n",
              "       [-0.24463305,  1.28276949,  1.20279142, -1.30746863],\n",
              "       [ 0.38422922,  1.34980627, -2.01508922, -0.63464121],\n",
              "       [ 0.361287  ,  0.17892449,  0.97647995,  1.28324545]])"
            ]
          },
          "metadata": {
            "tags": []
          },
          "execution_count": 15
        }
      ]
    },
    {
      "cell_type": "code",
      "metadata": {
        "colab": {
          "base_uri": "https://localhost:8080/"
        },
        "id": "zlPBCOvk8u50",
        "outputId": "1f39784d-57b1-4db7-8853-9d2f9bd6e4d6"
      },
      "source": [
        "data[data<0]=0\n",
        "data"
      ],
      "execution_count": 17,
      "outputs": [
        {
          "output_type": "execute_result",
          "data": {
            "text/plain": [
              "array([[0.        , 0.        , 0.        , 0.        ],\n",
              "       [0.35679507, 0.        , 1.3091819 , 0.34822747],\n",
              "       [0.        , 0.89147817, 1.11191778, 0.39854997],\n",
              "       [0.3428245 , 0.56111248, 0.        , 0.        ],\n",
              "       [1.11079811, 1.03362859, 0.        , 0.        ],\n",
              "       [0.89071004, 0.        , 1.03671779, 0.        ],\n",
              "       [0.18199059, 0.        , 0.        , 0.        ],\n",
              "       [0.        , 1.28276949, 1.20279142, 0.        ],\n",
              "       [0.38422922, 1.34980627, 0.        , 0.        ],\n",
              "       [0.361287  , 0.17892449, 0.97647995, 1.28324545]])"
            ]
          },
          "metadata": {
            "tags": []
          },
          "execution_count": 17
        }
      ]
    },
    {
      "cell_type": "code",
      "metadata": {
        "colab": {
          "base_uri": "https://localhost:8080/"
        },
        "id": "7FLxZ7uW808f",
        "outputId": "e6dd171d-6f78-4fbe-d910-af195bc34079"
      },
      "source": [
        "data[days!='sun']=0.5\n",
        "data"
      ],
      "execution_count": 18,
      "outputs": [
        {
          "output_type": "execute_result",
          "data": {
            "text/plain": [
              "array([[0.        , 0.        , 0.        , 0.        ],\n",
              "       [0.5       , 0.5       , 0.5       , 0.5       ],\n",
              "       [0.5       , 0.5       , 0.5       , 0.5       ],\n",
              "       [0.5       , 0.5       , 0.5       , 0.5       ],\n",
              "       [0.5       , 0.5       , 0.5       , 0.5       ],\n",
              "       [0.5       , 0.5       , 0.5       , 0.5       ],\n",
              "       [0.5       , 0.5       , 0.5       , 0.5       ],\n",
              "       [0.        , 1.28276949, 1.20279142, 0.        ],\n",
              "       [0.5       , 0.5       , 0.5       , 0.5       ],\n",
              "       [0.5       , 0.5       , 0.5       , 0.5       ]])"
            ]
          },
          "metadata": {
            "tags": []
          },
          "execution_count": 18
        }
      ]
    }
  ]
}